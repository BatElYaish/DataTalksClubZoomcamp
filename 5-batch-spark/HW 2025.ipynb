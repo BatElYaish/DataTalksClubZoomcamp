{
 "cells": [
  {
   "cell_type": "code",
   "execution_count": 1,
   "metadata": {},
   "outputs": [],
   "source": [
    "import os\n",
    "from pyspark.sql import SparkSession\n",
    "import pyspark.sql.functions as f\n",
    "import pyspark.sql.types as t"
   ]
  },
  {
   "cell_type": "code",
   "execution_count": 3,
   "metadata": {},
   "outputs": [],
   "source": [
    "# spark master\n",
    "spark_master = \"local[*]\"\n",
    "\n",
    "spark = SparkSession.builder\\\n",
    "            .master(spark_master) \\\n",
    "            .appName(\"HW 2025\")\\\n",
    "            .getOrCreate()"
   ]
  },
  {
   "cell_type": "code",
   "execution_count": null,
   "metadata": {},
   "outputs": [
    {
     "data": {
      "text/html": [
       "\n",
       "            <div>\n",
       "                <p><b>SparkSession - in-memory</b></p>\n",
       "                \n",
       "        <div>\n",
       "            <p><b>SparkContext</b></p>\n",
       "\n",
       "            <p><a href=\"http://host.docker.internal:4040\">Spark UI</a></p>\n",
       "\n",
       "            <dl>\n",
       "              <dt>Version</dt>\n",
       "                <dd><code>v3.5.4</code></dd>\n",
       "              <dt>Master</dt>\n",
       "                <dd><code>local[*]</code></dd>\n",
       "              <dt>AppName</dt>\n",
       "                <dd><code>HW 2025</code></dd>\n",
       "            </dl>\n",
       "        </div>\n",
       "        \n",
       "            </div>\n",
       "        "
      ],
      "text/plain": [
       "<pyspark.sql.session.SparkSession at 0x21468108b30>"
      ]
     },
     "execution_count": 4,
     "metadata": {},
     "output_type": "execute_result"
    }
   ],
   "source": [
    "#Q1 Spark version\n",
    "spark"
   ]
  },
  {
   "cell_type": "code",
   "execution_count": 5,
   "metadata": {},
   "outputs": [],
   "source": [
    "#File location https://d37ci6vzurychx.cloudfront.net/trip-data/yellow_tripdata_2024-10.parquet\n",
    "file_path = os.getcwd()+\"/data/Raw/yellow_tripdata_2024-10.parquet\"\n",
    "\n",
    "folder_path = os.getcwd()+\"/data/Processed/Yellow/\""
   ]
  },
  {
   "cell_type": "code",
   "execution_count": 6,
   "metadata": {},
   "outputs": [],
   "source": [
    "# Q2 Repartition the Dataframe to 4 partitions and save it to parquet.\n",
    "spark.read.parquet(file_path).repartition(4)\\\n",
    "    .write.parquet(folder_path)"
   ]
  },
  {
   "cell_type": "code",
   "execution_count": 7,
   "metadata": {},
   "outputs": [
    {
     "data": {
      "text/plain": [
       "22.386794090270996"
      ]
     },
     "execution_count": 7,
     "metadata": {},
     "output_type": "execute_result"
    }
   ],
   "source": [
    "#Get file size\n",
    "os.path.getsize(folder_path+[f for f in os.listdir(folder_path) if f.endswith(\".parquet\")][0])/ (1024 * 1024)"
   ]
  },
  {
   "cell_type": "code",
   "execution_count": 22,
   "metadata": {},
   "outputs": [],
   "source": [
    "#read parquet df\n",
    "\n",
    "df = spark.read.parquet(folder_path)"
   ]
  },
  {
   "cell_type": "code",
   "execution_count": 23,
   "metadata": {},
   "outputs": [
    {
     "name": "stdout",
     "output_type": "stream",
     "text": [
      "+--------+--------------------+---------------------+---------------+-------------+----------+------------------+------------+------------+------------+-----------+-----+-------+----------+------------+---------------------+------------+--------------------+-----------+\n",
      "|VendorID|tpep_pickup_datetime|tpep_dropoff_datetime|passenger_count|trip_distance|RatecodeID|store_and_fwd_flag|PULocationID|DOLocationID|payment_type|fare_amount|extra|mta_tax|tip_amount|tolls_amount|improvement_surcharge|total_amount|congestion_surcharge|Airport_fee|\n",
      "+--------+--------------------+---------------------+---------------+-------------+----------+------------------+------------+------------+------------+-----------+-----+-------+----------+------------+---------------------+------------+--------------------+-----------+\n",
      "|       1| 2024-10-07 16:40:43|  2024-10-07 18:10:56|              1|         14.8|        99|                 N|         127|         225|           1|       47.5|  0.0|    0.5|       0.0|        6.94|                  0.0|       54.94|                 0.0|        0.0|\n",
      "|       2| 2024-10-04 14:17:41|  2024-10-04 14:26:47|              1|          1.1|         1|                 N|         113|         211|           1|        9.3|  0.0|    0.5|      2.66|         0.0|                  1.0|       15.96|                 2.5|        0.0|\n",
      "|       2| 2024-10-01 11:17:28|  2024-10-01 11:32:18|              1|         4.63|         1|                 N|         231|         170|           1|       21.9|  0.0|    0.5|      5.18|         0.0|                  1.0|       31.08|                 2.5|        0.0|\n",
      "|       1| 2024-10-08 17:12:07|  2024-10-08 17:35:56|              1|          2.4|         1|                 N|         236|         100|           1|       19.8|  5.0|    0.5|      5.25|         0.0|                  1.0|       31.55|                 2.5|        0.0|\n",
      "|       1| 2024-10-01 15:37:08|  2024-10-01 15:54:23|              1|          2.1|         1|                 N|         237|          75|           1|       16.3|  2.5|    0.5|      4.05|         0.0|                  1.0|       24.35|                 2.5|        0.0|\n",
      "|       1| 2024-10-09 10:14:04|  2024-10-09 10:28:13|              1|          1.7|         1|                 N|         161|         234|           1|       12.8|  2.5|    0.5|      3.35|         0.0|                  1.0|       20.15|                 2.5|        0.0|\n",
      "|       2| 2024-10-04 17:08:38|  2024-10-04 18:03:10|              1|        17.42|         1|                 N|         132|          17|           1|       75.1|  2.5|    0.5|     19.77|         0.0|                  1.0|      100.62|                 0.0|       1.75|\n",
      "|       2| 2024-10-05 01:27:22|  2024-10-05 01:40:37|              1|         1.88|         1|                 N|         148|         137|           1|       13.5|  1.0|    0.5|       3.7|         0.0|                  1.0|        22.2|                 2.5|        0.0|\n",
      "|       2| 2024-10-05 23:50:45|  2024-10-06 00:00:32|              1|         1.06|         1|                 N|          79|         211|           1|       10.0|  1.0|    0.5|       2.0|         0.0|                  1.0|        17.0|                 2.5|        0.0|\n",
      "|       2| 2024-10-02 14:31:14|  2024-10-02 14:45:59|              1|         2.88|         1|                 N|         231|         246|           2|       17.0|  0.0|    0.5|       0.0|         0.0|                  1.0|        21.0|                 2.5|        0.0|\n",
      "+--------+--------------------+---------------------+---------------+-------------+----------+------------------+------------+------------+------------+-----------+-----+-------+----------+------------+---------------------+------------+--------------------+-----------+\n",
      "\n"
     ]
    }
   ],
   "source": [
    "df.limit(10).show()"
   ]
  },
  {
   "cell_type": "code",
   "execution_count": 16,
   "metadata": {},
   "outputs": [
    {
     "name": "stdout",
     "output_type": "stream",
     "text": [
      "+----------+\n",
      "|count_rows|\n",
      "+----------+\n",
      "|    128893|\n",
      "+----------+\n",
      "\n"
     ]
    }
   ],
   "source": [
    "#How many taxi trips were there that started on the 15th of October?\n",
    "df.filter(f.to_date(f.col('tpep_pickup_datetime')) == '2024-10-15')\\\n",
    "    .select(f.count('*').alias('count_rows')).show()"
   ]
  },
  {
   "cell_type": "code",
   "execution_count": 20,
   "metadata": {},
   "outputs": [
    {
     "name": "stdout",
     "output_type": "stream",
     "text": [
      "+------------------+\n",
      "|      longest_trip|\n",
      "+------------------+\n",
      "|162.61777777777777|\n",
      "+------------------+\n",
      "\n"
     ]
    }
   ],
   "source": [
    "# What is the length of the longest trip in the dataset in hours?\n",
    "\n",
    "df.withColumn('Trip_length', f.to_timestamp(f.col('tpep_dropoff_datetime')).cast('long')-f.to_timestamp(f.col('tpep_pickup_datetime')).cast('long'))\\\n",
    ".select((f.max('Trip_length')/3600).alias('longest_trip')).show()"
   ]
  },
  {
   "cell_type": "code",
   "execution_count": 21,
   "metadata": {},
   "outputs": [
    {
     "name": "stdout",
     "output_type": "stream",
     "text": [
      "+--------------------+\n",
      "|                Zone|\n",
      "+--------------------+\n",
      "|Governor's Island...|\n",
      "+--------------------+\n",
      "\n"
     ]
    }
   ],
   "source": [
    "# what is the name of the LEAST frequent pickup location Zone?\n",
    "df_zones = spark.read.format('csv')\\\n",
    "        .option('header','true')\\\n",
    "        .load(os.getcwd()+\"/data/taxi_zone_lookup.csv\")\\\n",
    "        .select(f.col('LocationID').alias('PUlocationID'),'Zone')\n",
    "\n",
    "df.join(df_zones,'PUlocationID','inner')\\\n",
    "    .groupBy('Zone')\\\n",
    "    .agg(f.count('*').alias('cnt'))\\\n",
    "    .orderBy(f.col('cnt'))\\\n",
    "    .select('Zone').limit(1).show()"
   ]
  },
  {
   "cell_type": "code",
   "execution_count": null,
   "metadata": {},
   "outputs": [],
   "source": [
    "## if spark is local\n",
    "# spark.stop()"
   ]
  }
 ],
 "metadata": {
  "kernelspec": {
   "display_name": "Python 3",
   "language": "python",
   "name": "python3"
  },
  "language_info": {
   "codemirror_mode": {
    "name": "ipython",
    "version": 3
   },
   "file_extension": ".py",
   "mimetype": "text/x-python",
   "name": "python",
   "nbconvert_exporter": "python",
   "pygments_lexer": "ipython3",
   "version": "3.12.4"
  }
 },
 "nbformat": 4,
 "nbformat_minor": 2
}
