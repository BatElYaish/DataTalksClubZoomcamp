{
 "cells": [
  {
   "cell_type": "code",
   "execution_count": 2,
   "metadata": {},
   "outputs": [],
   "source": [
    "import os\n",
    "from pyspark.sql import SparkSession\n",
    "from dotenv import load_dotenv"
   ]
  },
  {
   "cell_type": "code",
   "execution_count": 3,
   "metadata": {},
   "outputs": [],
   "source": [
    "load_dotenv()\n",
    "gcp_json = os.getenv('GCP_CRED_PATH')"
   ]
  },
  {
   "cell_type": "code",
   "execution_count": null,
   "metadata": {},
   "outputs": [],
   "source": [
    "# spark master\n",
    "spark_master = \"local[*]\" #\"spark://10.100.102.25:7077\" #"
   ]
  },
  {
   "cell_type": "code",
   "execution_count": 7,
   "metadata": {},
   "outputs": [],
   "source": [
    "def add_gcp_conf(builder):\n",
    "    builder = builder \\\n",
    "        .config(\"spark.hadoop.google.cloud.auth.service.account.enable\", \"true\") \\\n",
    "        .config(\"spark.hadoop.google.cloud.auth.service.account.json.keyfile\", gcp_json) \\\n",
    "        .config(\"spark.hadoop.fs.gs.impl\", \"com.google.cloud.hadoop.fs.gcs.GoogleHadoopFileSystem\") \\\n",
    "        .config(\"spark.hadoop.fs.AbstractFileSystem.gs.impl\", \"com.google.cloud.hadoop.fs.gcs.GoogleHadoopFS\")\n",
    "    \n",
    "    return builder"
   ]
  },
  {
   "cell_type": "code",
   "execution_count": null,
   "metadata": {},
   "outputs": [],
   "source": [
    "builder = SparkSession.builder\\\n",
    "            .master(spark_master) \\\n",
    "            .appName(\"GCS Reader\")\n",
    "\n",
    "spark = add_gcp_conf(builder).getOrCreate() #builder.getOrCreate()"
   ]
  },
  {
   "cell_type": "code",
   "execution_count": 24,
   "metadata": {},
   "outputs": [],
   "source": [
    "spark = SparkSession.getActiveSession()"
   ]
  },
  {
   "cell_type": "code",
   "execution_count": 25,
   "metadata": {},
   "outputs": [
    {
     "data": {
      "text/html": [
       "\n",
       "            <div>\n",
       "                <p><b>SparkSession - in-memory</b></p>\n",
       "                \n",
       "        <div>\n",
       "            <p><b>SparkContext</b></p>\n",
       "\n",
       "            <p><a href=\"http://host.docker.internal:4040\">Spark UI</a></p>\n",
       "\n",
       "            <dl>\n",
       "              <dt>Version</dt>\n",
       "                <dd><code>v3.5.4</code></dd>\n",
       "              <dt>Master</dt>\n",
       "                <dd><code>spark://10.100.102.25:7077</code></dd>\n",
       "              <dt>AppName</dt>\n",
       "                <dd><code>GCS Reader</code></dd>\n",
       "            </dl>\n",
       "        </div>\n",
       "        \n",
       "            </div>\n",
       "        "
      ],
      "text/plain": [
       "<pyspark.sql.session.SparkSession at 0x1cffde27c20>"
      ]
     },
     "execution_count": 25,
     "metadata": {},
     "output_type": "execute_result"
    }
   ],
   "source": [
    "spark"
   ]
  },
  {
   "cell_type": "code",
   "execution_count": 26,
   "metadata": {},
   "outputs": [],
   "source": [
    "file_path = \"/Raw/2019/green_tripdata_2019-11.parquet\"\n",
    "\n",
    "#files from gcp or local\n",
    "gcp_or_local = 'GCP' #local\n",
    "\n",
    "if gcp_or_local == 'local': #GCP\n",
    "    data_path = os.getcwd()+'/data'+file_path\n",
    "else: \n",
    "    data_path = \"gs://de-zoomcamp-47-bucket\"+file_path"
   ]
  },
  {
   "cell_type": "code",
   "execution_count": null,
   "metadata": {},
   "outputs": [],
   "source": [
    "df = spark.read.parquet(data_path)"
   ]
  },
  {
   "cell_type": "code",
   "execution_count": 17,
   "metadata": {},
   "outputs": [
    {
     "data": {
      "text/plain": [
       "[Row(VendorID=2, lpep_pickup_datetime=datetime.datetime(2019, 11, 1, 0, 11, 24), lpep_dropoff_datetime=datetime.datetime(2019, 11, 1, 0, 23, 12), store_and_fwd_flag='N', RatecodeID=1.0, PULocationID=66, DOLocationID=148, passenger_count=1.0, trip_distance=2.8, fare_amount=11.5, extra=0.5, mta_tax=0.5, tip_amount=3.11, tolls_amount=0.0, ehail_fee=None, improvement_surcharge=0.3, total_amount=18.66, payment_type=1.0, trip_type=1.0, congestion_surcharge=2.75),\n",
       " Row(VendorID=2, lpep_pickup_datetime=datetime.datetime(2019, 11, 1, 0, 49, 25), lpep_dropoff_datetime=datetime.datetime(2019, 11, 1, 1, 14, 19), store_and_fwd_flag='N', RatecodeID=1.0, PULocationID=145, DOLocationID=114, passenger_count=1.0, trip_distance=5.59, fare_amount=20.0, extra=0.5, mta_tax=0.5, tip_amount=6.03, tolls_amount=6.12, ehail_fee=None, improvement_surcharge=0.3, total_amount=36.2, payment_type=1.0, trip_type=1.0, congestion_surcharge=2.75),\n",
       " Row(VendorID=1, lpep_pickup_datetime=datetime.datetime(2019, 11, 1, 0, 57, 22), lpep_dropoff_datetime=datetime.datetime(2019, 11, 1, 1, 9, 23), store_and_fwd_flag='N', RatecodeID=1.0, PULocationID=255, DOLocationID=37, passenger_count=1.0, trip_distance=2.1, fare_amount=10.0, extra=0.5, mta_tax=0.5, tip_amount=2.25, tolls_amount=0.0, ehail_fee=None, improvement_surcharge=0.3, total_amount=13.55, payment_type=1.0, trip_type=1.0, congestion_surcharge=0.0),\n",
       " Row(VendorID=2, lpep_pickup_datetime=datetime.datetime(2019, 11, 1, 0, 59, 52), lpep_dropoff_datetime=datetime.datetime(2019, 11, 1, 1, 8, 19), store_and_fwd_flag='N', RatecodeID=1.0, PULocationID=7, DOLocationID=226, passenger_count=1.0, trip_distance=1.23, fare_amount=7.5, extra=0.5, mta_tax=0.5, tip_amount=0.0, tolls_amount=0.0, ehail_fee=None, improvement_surcharge=0.3, total_amount=8.8, payment_type=2.0, trip_type=1.0, congestion_surcharge=0.0),\n",
       " Row(VendorID=2, lpep_pickup_datetime=datetime.datetime(2019, 11, 1, 0, 40, 13), lpep_dropoff_datetime=datetime.datetime(2019, 11, 1, 0, 47, 41), store_and_fwd_flag='N', RatecodeID=1.0, PULocationID=129, DOLocationID=129, passenger_count=1.0, trip_distance=1.18, fare_amount=7.0, extra=0.5, mta_tax=0.5, tip_amount=0.0, tolls_amount=0.0, ehail_fee=None, improvement_surcharge=0.3, total_amount=8.3, payment_type=2.0, trip_type=1.0, congestion_surcharge=0.0)]"
      ]
     },
     "execution_count": 17,
     "metadata": {},
     "output_type": "execute_result"
    }
   ],
   "source": [
    "df.head(5)\n"
   ]
  },
  {
   "cell_type": "code",
   "execution_count": null,
   "metadata": {},
   "outputs": [],
   "source": [
    "## if spark is local\n",
    "# spark.stop()"
   ]
  }
 ],
 "metadata": {
  "kernelspec": {
   "display_name": "Python 3",
   "language": "python",
   "name": "python3"
  },
  "language_info": {
   "codemirror_mode": {
    "name": "ipython",
    "version": 3
   },
   "file_extension": ".py",
   "mimetype": "text/x-python",
   "name": "python",
   "nbconvert_exporter": "python",
   "pygments_lexer": "ipython3",
   "version": "3.12.4"
  }
 },
 "nbformat": 4,
 "nbformat_minor": 2
}
