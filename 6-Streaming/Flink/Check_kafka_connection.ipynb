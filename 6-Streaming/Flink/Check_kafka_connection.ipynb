{
 "cells": [
  {
   "cell_type": "code",
   "execution_count": 1,
   "metadata": {},
   "outputs": [],
   "source": [
    "import json\n",
    "from kafka import KafkaProducer\n",
    "import csv"
   ]
  },
  {
   "cell_type": "code",
   "execution_count": 2,
   "metadata": {},
   "outputs": [],
   "source": [
    "def json_serializer(data):\n",
    "    return json.dumps(data).encode('utf-8')"
   ]
  },
  {
   "cell_type": "code",
   "execution_count": 3,
   "metadata": {},
   "outputs": [
    {
     "data": {
      "text/plain": [
       "True"
      ]
     },
     "execution_count": 3,
     "metadata": {},
     "output_type": "execute_result"
    }
   ],
   "source": [
    "\n",
    "server = 'localhost:9092'\n",
    "\n",
    "producer = KafkaProducer(\n",
    "    bootstrap_servers=[server],\n",
    "    value_serializer=json_serializer\n",
    ")\n",
    "\n",
    "producer.bootstrap_connected()"
   ]
  },
  {
   "cell_type": "code",
   "execution_count": 5,
   "metadata": {},
   "outputs": [],
   "source": [
    "csv_file = 'data/green_tripdata_2019-10.csv'  # change to your CSV file path if needed"
   ]
  },
  {
   "cell_type": "code",
   "execution_count": 9,
   "metadata": {},
   "outputs": [
    {
     "name": "stdout",
     "output_type": "stream",
     "text": [
      "{'lpep_pickup_datetime': '2019-10-01 00:26:02', 'lpep_dropoff_datetime': '2019-10-01 00:39:58', 'PULocationID': '112', 'DOLocationID': '196', 'passenger_count': '1', 'trip_distance': '5.88', 'tip_amount': '0'}\n",
      "{'lpep_pickup_datetime': '2019-10-01 00:18:11', 'lpep_dropoff_datetime': '2019-10-01 00:22:38', 'PULocationID': '43', 'DOLocationID': '263', 'passenger_count': '1', 'trip_distance': '.80', 'tip_amount': '0'}\n",
      "{'lpep_pickup_datetime': '2019-10-01 00:09:31', 'lpep_dropoff_datetime': '2019-10-01 00:24:47', 'PULocationID': '255', 'DOLocationID': '228', 'passenger_count': '2', 'trip_distance': '7.50', 'tip_amount': '0'}\n",
      "{'lpep_pickup_datetime': '2019-10-01 00:37:40', 'lpep_dropoff_datetime': '2019-10-01 00:41:49', 'PULocationID': '181', 'DOLocationID': '181', 'passenger_count': '1', 'trip_distance': '.90', 'tip_amount': '0'}\n",
      "{'lpep_pickup_datetime': '2019-10-01 00:08:13', 'lpep_dropoff_datetime': '2019-10-01 00:17:56', 'PULocationID': '97', 'DOLocationID': '188', 'passenger_count': '1', 'trip_distance': '2.52', 'tip_amount': '2.26'}\n",
      "{'lpep_pickup_datetime': '2019-10-01 00:35:01', 'lpep_dropoff_datetime': '2019-10-01 00:43:40', 'PULocationID': '65', 'DOLocationID': '49', 'passenger_count': '1', 'trip_distance': '1.47', 'tip_amount': '1.86'}\n",
      "{'lpep_pickup_datetime': '2019-10-01 00:28:09', 'lpep_dropoff_datetime': '2019-10-01 00:30:49', 'PULocationID': '7', 'DOLocationID': '179', 'passenger_count': '1', 'trip_distance': '.60', 'tip_amount': '1'}\n",
      "{'lpep_pickup_datetime': '2019-10-01 00:28:26', 'lpep_dropoff_datetime': '2019-10-01 00:32:01', 'PULocationID': '41', 'DOLocationID': '74', 'passenger_count': '1', 'trip_distance': '.56', 'tip_amount': '0'}\n",
      "{'lpep_pickup_datetime': '2019-10-01 00:14:01', 'lpep_dropoff_datetime': '2019-10-01 00:26:16', 'PULocationID': '255', 'DOLocationID': '49', 'passenger_count': '1', 'trip_distance': '2.42', 'tip_amount': '0'}\n",
      "{'lpep_pickup_datetime': '2019-10-01 00:03:03', 'lpep_dropoff_datetime': '2019-10-01 00:17:13', 'PULocationID': '130', 'DOLocationID': '131', 'passenger_count': '1', 'trip_distance': '3.40', 'tip_amount': '2.85'}\n",
      "{'lpep_pickup_datetime': '2019-10-01 00:07:10', 'lpep_dropoff_datetime': '2019-10-01 00:23:38', 'PULocationID': '24', 'DOLocationID': '74', 'passenger_count': '3', 'trip_distance': '3.18', 'tip_amount': '0'}\n"
     ]
    }
   ],
   "source": [
    "counter = 0\n",
    "with open(csv_file, 'r', newline='', encoding='utf-8') as file:\n",
    "    reader = csv.DictReader(file)\n",
    "\n",
    "    for row in reader:\n",
    "        columns = ['lpep_pickup_datetime', 'lpep_dropoff_datetime', 'PULocationID', 'DOLocationID', 'passenger_count', 'trip_distance', 'tip_amount']\n",
    "        selected_cols = selected = {k: v for k, v in row.items() if k in columns}\n",
    "        print(selected_cols)\n",
    "        counter +=1\n",
    "\n",
    "        if counter > 10:\n",
    "            break"
   ]
  }
 ],
 "metadata": {
  "kernelspec": {
   "display_name": "Python 3",
   "language": "python",
   "name": "python3"
  },
  "language_info": {
   "codemirror_mode": {
    "name": "ipython",
    "version": 3
   },
   "file_extension": ".py",
   "mimetype": "text/x-python",
   "name": "python",
   "nbconvert_exporter": "python",
   "pygments_lexer": "ipython3",
   "version": "3.11.9"
  }
 },
 "nbformat": 4,
 "nbformat_minor": 2
}
